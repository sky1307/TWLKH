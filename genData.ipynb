{
 "cells": [
  {
   "cell_type": "code",
   "execution_count": 1,
   "id": "787ef586",
   "metadata": {},
   "outputs": [],
   "source": [
    "import numpy as np \n",
    "\n",
    "n = 30\n",
    "m = 72\n",
    "\n",
    "xh = np.random.randint(100,size=n)\n",
    "yh = np.random.randint(100,size=n)\n",
    "vh = np.random.randint(int(60*n/5+1),int(100*n/5+1),size=n)\n",
    "\n",
    "xc = np.random.randint(100,size=m)\n",
    "yc = np.random.randint(100,size=m)\n",
    "vc = np.random.randint(int(20*n/5+1),int(30*n/5+1),size=m)\n",
    "\n",
    "data = \"{} {}\\n\".format(n,m)\n",
    "for i in range(n):\n",
    "    temp = \"{} {} {}\\n\".format(xh[i],yh[i],vh[i])\n",
    "    data += temp\n",
    "for j in range(m):\n",
    "    temp = \"{} {} {}\\n\".format(xc[j],yc[j],vc[j])\n",
    "    data += temp\n",
    "\n",
    "with open(\"Data/test_{}_{}.txt\".format(n,m),\"w+\") as f:\n",
    "    f.write(data)"
   ]
  }
 ],
 "metadata": {
  "kernelspec": {
   "display_name": "Python 3 (ipykernel)",
   "language": "python",
   "name": "python3"
  },
  "language_info": {
   "codemirror_mode": {
    "name": "ipython",
    "version": 3
   },
   "file_extension": ".py",
   "mimetype": "text/x-python",
   "name": "python",
   "nbconvert_exporter": "python",
   "pygments_lexer": "ipython3",
   "version": "3.9.7"
  }
 },
 "nbformat": 4,
 "nbformat_minor": 5
}
